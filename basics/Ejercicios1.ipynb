{
 "nbformat": 4,
 "nbformat_minor": 0,
 "metadata": {
  "colab": {
   "name": "Ejercicios1.ipynb",
   "version": "0.3.2",
   "provenance": [],
   "collapsed_sections": []
  },
  "kernelspec": {
   "name": "pycharm-c9d039a8",
   "language": "python",
   "display_name": "PyCharm (Daily-Python)"
  },
  "pycharm": {
   "stem_cell": {
    "cell_type": "raw",
    "source": [],
    "metadata": {
     "collapsed": false
    }
   }
  }
 },
 "cells": [
  {
   "cell_type": "markdown",
   "metadata": {
    "id": "UYfyW4wO5dFI",
    "colab_type": "text"
   },
   "source": [
    "# README\n",
    "Este notebook contrendrá varios ejercicios básicos en python y sus resoluciones. Constan de definiciones de funciones para resolver problemas mediante algoritmos básicos."
   ]
  },
  {
   "cell_type": "markdown",
   "metadata": {
    "id": "VSy43xQc5CXq",
    "colab_type": "text"
   },
   "source": [
    "#Enunciado: Función Max\n",
    "\n",
    "Definir una función \"max(*args)\" que reciba argumentos de tipo numérico y devuelva el mayor de ellos.\n"
   ]
  },
  {
   "cell_type": "code",
   "metadata": {
    "id": "cEJlcQRa49F8",
    "colab_type": "code",
    "colab": {}
   },
   "source": [
    "# Definir una función en python que reciba argumentos de tipo numérico y devuelva\n",
    "# el mayor de ellos.\n",
    "\n",
    "def max(*args):\n",
    "  \"\"\"\n",
    "  Funcion que recibe un número indeterminado de argumentos numéricos\n",
    "  y devuelve el máximo de ellos.\n",
    "  \"\"\"\n",
    "  maximo = args[0]\n",
    "  for numero in args[1:]:\n",
    "      if numero > maximo:\n",
    "          maximo = numero\n",
    "  return maximo"
   ],
   "execution_count": 0,
   "outputs": []
  },
  {
   "cell_type": "code",
   "metadata": {
    "id": "ncghGiog7VZx",
    "colab_type": "code",
    "colab": {
     "base_uri": "https://localhost:8080/",
     "height": 36
    },
    "outputId": "a08f61ca-a3eb-42c1-c4ea-dbbf90a35a45",
    "executionInfo": {
     "status": "ok",
     "timestamp": 1565516592164,
     "user_tz": -120,
     "elapsed": 862,
     "user": {
      "displayName": "Jeff Beat Eater",
      "photoUrl": "https://lh6.googleusercontent.com/-tGrCaQGEs3U/AAAAAAAAAAI/AAAAAAAAJvc/v29Xcq0c0jo/s64/photo.jpg",
      "userId": "03440760288740443961"
     }
    }
   },
   "source": [
    "#Test función max\n",
    "\n",
    "maximo = max(10,2,14,56.9,6,7)\n",
    "print(\"El máximo de todos es: \",maximo)"
   ],
   "execution_count": 5,
   "outputs": [
    {
     "output_type": "stream",
     "text": [
      "El máximo de todos es:  56.9\n"
     ],
     "name": "stdout"
    }
   ]
  },
  {
   "cell_type": "markdown",
   "metadata": {
    "id": "UwJfbPbMDZ1_",
    "colab_type": "text"
   },
   "source": [
    "#Enunciado: Función Longitud\n",
    "\n",
    "Defina una funcion que determine la longitud de la lista.\n",
    "\n"
   ]
  },
  {
   "cell_type": "code",
   "metadata": {
    "id": "OCCw9tK_Dm0N",
    "colab_type": "code",
    "colab": {}
   },
   "source": [
    "\n",
    "def list_len(lista):\n",
    "    \"\"\"\n",
    "    Funcion que devuelve longitud de una lista\n",
    "    \"\"\"\n",
    "    len= 0\n",
    "\n",
    "    if lista:\n",
    "        for elementos in lista:\n",
    "            len += 1\n",
    "\n",
    "    return len\n",
    "\n"
   ],
   "execution_count": 0,
   "outputs": []
  },
  {
   "cell_type": "code",
   "metadata": {
    "id": "ZzZjcniTDsZ7",
    "colab_type": "code",
    "colab": {
     "base_uri": "https://localhost:8080/",
     "height": 36
    },
    "outputId": "9c7d97ba-9d30-405d-b25e-ef99655ba3d4",
    "executionInfo": {
     "status": "ok",
     "timestamp": 1565516620444,
     "user_tz": -120,
     "elapsed": 805,
     "user": {
      "displayName": "Jeff Beat Eater",
      "photoUrl": "https://lh6.googleusercontent.com/-tGrCaQGEs3U/AAAAAAAAAAI/AAAAAAAAJvc/v29Xcq0c0jo/s64/photo.jpg",
      "userId": "03440760288740443961"
     }
    }
   },
   "source": [
    "#test\n",
    "lista = [x for x in range(0, 10)]\n",
    "\n",
    "longitud = list_len(lista)\n",
    "\n",
    "print(\"La longitud de la lista es: \",longitud)\n"
   ],
   "execution_count": 9,
   "outputs": [
    {
     "output_type": "stream",
     "text": [
      "La longitud de la lista es:  10\n"
     ],
     "name": "stdout"
    }
   ]
  },
  {
   "cell_type": "markdown",
   "metadata": {
    "id": "os_NMLM-IXnj",
    "colab_type": "text"
   },
   "source": [
    "#Enunciado: Función es_vocal\n",
    "Definir una función que reciba un carácter y determine si es una vocal."
   ]
  },
  {
   "cell_type": "code",
   "metadata": {
    "id": "-SzkNQ0UIqNf",
    "colab_type": "code",
    "colab": {
     "base_uri": "https://localhost:8080/",
     "height": 36
    },
    "outputId": "fe68e032-313b-48af-c53c-4d4c79468802",
    "executionInfo": {
     "status": "ok",
     "timestamp": 1565517985581,
     "user_tz": -120,
     "elapsed": 883,
     "user": {
      "displayName": "Jeff Beat Eater",
      "photoUrl": "https://lh6.googleusercontent.com/-tGrCaQGEs3U/AAAAAAAAAAI/AAAAAAAAJvc/v29Xcq0c0jo/s64/photo.jpg",
      "userId": "03440760288740443961"
     }
    }
   },
   "source": [
    "def es_vocal(caracter):\n",
    "  \"\"\"\n",
    "  Funcion que determina si el caracter es una vocal.\n",
    "  \"\"\"\n",
    "  vocales =['a','e','i','o','u']\n",
    "\n",
    "  return caracter in vocales"
   ],
   "execution_count": 14,
   "outputs": [
    {
     "output_type": "stream",
     "text": [
      "False\n"
     ],
     "name": "stdout"
    }
   ]
  },
  {
   "cell_type": "code",
   "metadata": {
    "id": "KKLKef1qJN7b",
    "colab_type": "code",
    "colab": {
     "base_uri": "https://localhost:8080/",
     "height": 91
    },
    "outputId": "89ee27e7-8756-4faf-da0e-4882898a55bb",
    "executionInfo": {
     "status": "ok",
     "timestamp": 1565518255606,
     "user_tz": -120,
     "elapsed": 1015,
     "user": {
      "displayName": "Jeff Beat Eater",
      "photoUrl": "https://lh6.googleusercontent.com/-tGrCaQGEs3U/AAAAAAAAAAI/AAAAAAAAJvc/v29Xcq0c0jo/s64/photo.jpg",
      "userId": "03440760288740443961"
     }
    }
   },
   "source": [
    "#Testeo\n",
    "\n",
    "caracteres =['a','b','f','i']\n",
    "\n",
    "for caracter in caracteres:\n",
    "  if es_vocal(caracter):\n",
    "    print(\"<\",caracter,\"> Es una vocal\")\n",
    "  else:\n",
    "    print(\"<\",caracter,\"> No es una vocal\")\n"
   ],
   "execution_count": 21,
   "outputs": [
    {
     "output_type": "stream",
     "text": [
      "< a > Es una vocal\n",
      "< b > No es una vocal\n",
      "< f > No es una vocal\n",
      "< i > Es una vocal\n"
     ],
     "name": "stdout"
    }
   ]
  },
  {
   "cell_type": "markdown",
   "metadata": {
    "id": "os7vPmDxUm4b",
    "colab_type": "text"
   },
   "source": [
    "#Enunciado: Funciones [mul|sum]_list_elements\n",
    "\n",
    "Defina dos funciones que reciban una lista de elementos numéricos y devuelvan respectivamente la suma y la multiplicación de todos los elementos."
   ]
  },
  {
   "cell_type": "code",
   "metadata": {
    "id": "LxAUPeXmUz0e",
    "colab_type": "code",
    "colab": {}
   },
   "source": [
    "def mul_list_elements(lista):\n",
    "    \"\"\"\n",
    "    función que devuelve la multiplicacion\n",
    "    de todos los elementos de una lista\n",
    "    \"\"\"\n",
    "\n",
    "    mul_total = 1\n",
    "    for elemento in lista:\n",
    "        mul_total *= elemento\n",
    "\n",
    "    return mul_total\n",
    "\n",
    "\n",
    "def sum_list_elements(lista):\n",
    "    \"\"\"\n",
    "    función que devuelve la suma de\n",
    "    todos los elementos de una lista\n",
    "    \"\"\"\n",
    "\n",
    "    sum_total = 0\n",
    "\n",
    "    for elemento in lista:\n",
    "        sum_total += elemento\n",
    "\n",
    "    return sum_total"
   ],
   "execution_count": 0,
   "outputs": []
  },
  {
   "cell_type": "code",
   "metadata": {
    "id": "qO1-Z_3pU2Uj",
    "colab_type": "code",
    "colab": {
     "base_uri": "https://localhost:8080/",
     "height": 36
    },
    "outputId": "514e897c-a7e2-40c8-b184-622f7347f600",
    "executionInfo": {
     "status": "ok",
     "timestamp": 1565521108617,
     "user_tz": -120,
     "elapsed": 845,
     "user": {
      "displayName": "Jeff Beat Eater",
      "photoUrl": "https://lh6.googleusercontent.com/-tGrCaQGEs3U/AAAAAAAAAAI/AAAAAAAAJvc/v29Xcq0c0jo/s64/photo.jpg",
      "userId": "03440760288740443961"
     }
    }
   },
   "source": [
    "#tester\n",
    "\n",
    "lista = [1,2,3,4]\n",
    "\n",
    "print(\"La suma de todos los elementos es\",sum_list_elements(lista))\n",
    "print(\"La multiplicación de todos los elementos es\",mul_list_elements(lista))"
   ],
   "execution_count": 24,
   "outputs": [
    {
     "output_type": "stream",
     "text": [
      "La suma de todos los elementos es 10\n"
     ],
     "name": "stdout"
    }
   ]
  },
  {
   "cell_type": "markdown",
   "metadata": {
    "id": "E8CDiZMBpBpK",
    "colab_type": "text"
   },
   "source": [
    "#Enunciado: Función invertir_cadena\n",
    "\n",
    "Definir una función que invierta una cadena de caracteres"
   ]
  },
  {
   "cell_type": "code",
   "metadata": {
    "id": "LPPR546_pF_e",
    "colab_type": "code",
    "colab": {
     "base_uri": "https://localhost:8080/",
     "height": 36
    },
    "outputId": "92aa1aa5-93b5-4bd8-b1f7-50b600cea056",
    "executionInfo": {
     "status": "ok",
     "timestamp": 1565526783057,
     "user_tz": -120,
     "elapsed": 740,
     "user": {
      "displayName": "Jeff Beat Eater",
      "photoUrl": "https://lh6.googleusercontent.com/-tGrCaQGEs3U/AAAAAAAAAAI/AAAAAAAAJvc/v29Xcq0c0jo/s64/photo.jpg",
      "userId": "03440760288740443961"
     }
    }
   },
   "source": [
    "def invertir_cadena(cadena):\n",
    "  \"\"\"\n",
    "  Funcion que invierte una cadena de caracteres\n",
    "  \"\"\"\n",
    "\n",
    "  cadena_invertida = \"\"\n",
    "  \n",
    "\n",
    "  for letra in cadena[::-1]:\n",
    "    cadena_invertida+=letra\n",
    "\n",
    "  return cadena_invertida"
   ],
   "execution_count": 40,
   "outputs": [
    {
     "output_type": "stream",
     "text": [
      "odnum aloH\n"
     ],
     "name": "stdout"
    }
   ]
  },
  {
   "cell_type": "code",
   "metadata": {
    "id": "Apf-64dgsZ-A",
    "colab_type": "code",
    "colab": {
     "base_uri": "https://localhost:8080/",
     "height": 36
    },
    "outputId": "38a49d27-24f1-437f-bceb-2b84d68bec7a",
    "executionInfo": {
     "status": "ok",
     "timestamp": 1565527247066,
     "user_tz": -120,
     "elapsed": 776,
     "user": {
      "displayName": "Jeff Beat Eater",
      "photoUrl": "https://lh6.googleusercontent.com/-tGrCaQGEs3U/AAAAAAAAAAI/AAAAAAAAJvc/v29Xcq0c0jo/s64/photo.jpg",
      "userId": "03440760288740443961"
     }
    }
   },
   "source": [
    "#Testing invertir_cadena\n",
    " print(invertir_cadena(\"Hola mundo\"))\n",
    "\n"
   ],
   "execution_count": 41,
   "outputs": [
    {
     "output_type": "stream",
     "text": [
      "odnum aloH\n"
     ],
     "name": "stdout"
    }
   ]
  },
  {
   "cell_type": "markdown",
   "metadata": {
    "id": "to9kQsuwurmY",
    "colab_type": "text"
   },
   "source": [
    "#Enunciado: Función es_palindromo\n",
    "Defina una función que termine si una cadena es un palindromo"
   ]
  },
  {
   "cell_type": "code",
   "metadata": {
    "id": "HpYK0uGWurHy",
    "colab_type": "code",
    "colab": {
     "base_uri": "https://localhost:8080/",
     "height": 36
    },
    "outputId": "d8c43240-3e0a-489a-8bc8-38cb7864c612",
    "executionInfo": {
     "status": "ok",
     "timestamp": 1565528278250,
     "user_tz": -120,
     "elapsed": 716,
     "user": {
      "displayName": "Jeff Beat Eater",
      "photoUrl": "https://lh6.googleusercontent.com/-tGrCaQGEs3U/AAAAAAAAAAI/AAAAAAAAJvc/v29Xcq0c0jo/s64/photo.jpg",
      "userId": "03440760288740443961"
     }
    }
   },
   "source": [
    "def es_palindromo(cadena):\n",
    "  \"\"\"\n",
    "  Función que determina si una cadena es un palindromo o no.\n",
    "  \"\"\"\n",
    "  cadena_invertida = invertir_cadena(cadena)\n",
    "\n",
    "  iterator = 0\n",
    "  for letra in cadena_invertida:\n",
    "    if cadena[iterator]==letra:\n",
    "      iterator+=1\n",
    "    else:\n",
    "      return False\n",
    "\n",
    "  return True\n",
    "\n",
    "\n"
   ],
   "execution_count": 53,
   "outputs": [
    {
     "output_type": "stream",
     "text": [
      "True\n"
     ],
     "name": "stdout"
    }
   ]
  },
  {
   "cell_type": "code",
   "metadata": {
    "id": "yp7l-gOawedm",
    "colab_type": "code",
    "colab": {
     "base_uri": "https://localhost:8080/",
     "height": 54
    },
    "outputId": "de05b328-74c1-4d09-f0b3-caa22805b129",
    "executionInfo": {
     "status": "ok",
     "timestamp": 1565530060133,
     "user_tz": -120,
     "elapsed": 770,
     "user": {
      "displayName": "Jeff Beat Eater",
      "photoUrl": "https://lh6.googleusercontent.com/-tGrCaQGEs3U/AAAAAAAAAAI/AAAAAAAAJvc/v29Xcq0c0jo/s64/photo.jpg",
      "userId": "03440760288740443961"
     }
    }
   },
   "source": [
    "#Testing is palindromo\n",
    "\n",
    "print(es_palindromo(\"hol\"))\n",
    "print(es_palindromo(\"lol\"))\n",
    "\n"
   ],
   "execution_count": 54,
   "outputs": [
    {
     "output_type": "stream",
     "text": [
      "False\n",
      "True\n"
     ],
     "name": "stdout"
    }
   ]
  },
  {
   "cell_type": "markdown",
   "metadata": {
    "id": "RB1EB5Gz3QYF",
    "colab_type": "text"
   },
   "source": [
    "#Enunciado: Función lista_comun![texto alternativo](https://)\n",
    "\n",
    "Funcion que determine si dos listas tiene al menos un elemento en común."
   ]
  },
  {
   "cell_type": "code",
   "metadata": {
    "id": "tNlsFvQy3dcY",
    "colab_type": "code",
    "colab": {}
   },
   "source": [
    "def lista_comun(lista1,lista2):\n",
    "  \"\"\"\n",
    "  Función que determina si al menos las listas comparten 1 elemento\n",
    "  \"\"\"\n",
    "\n",
    "  for elemento in lista1:\n",
    "    if elemento in lista2:\n",
    "      return True\n",
    "  \n",
    "  return False"
   ],
   "execution_count": 0,
   "outputs": []
  },
  {
   "cell_type": "code",
   "metadata": {
    "id": "Osu1ZjxYHsyA",
    "colab_type": "code",
    "colab": {
     "base_uri": "https://localhost:8080/",
     "height": 36
    },
    "outputId": "b4468e06-2dfe-4501-ce26-a98325e73ebd",
    "executionInfo": {
     "status": "ok",
     "timestamp": 1565534505477,
     "user_tz": -120,
     "elapsed": 601,
     "user": {
      "displayName": "Jeff Beat Eater",
      "photoUrl": "https://lh6.googleusercontent.com/-tGrCaQGEs3U/AAAAAAAAAAI/AAAAAAAAJvc/v29Xcq0c0jo/s64/photo.jpg",
      "userId": "03440760288740443961"
     }
    }
   },
   "source": [
    "#Testing lista_comun\n",
    "\n",
    "lista1 = ['uno','dos','tres','cuatro']\n",
    "lista2 = ['uno','venticinco']\n",
    "lista3 = ['40','50','70']\n",
    "\n",
    "print(lista_comun(lista1,lista3))"
   ],
   "execution_count": 61,
   "outputs": [
    {
     "output_type": "stream",
     "text": [
      "False\n"
     ],
     "name": "stdout"
    }
   ]
  },
  {
   "cell_type": "markdown",
   "metadata": {
    "id": "O9BuB89PLsyG",
    "colab_type": "text"
   },
   "source": [
    "#Enunciado: Función n_caracteres\n",
    "\n",
    "Defina una función que reciba un carácter y un número entero, y devuelva una cadena formada por ese mismo carácter tantas veces como el valor del número entero."
   ]
  },
  {
   "cell_type": "code",
   "metadata": {
    "id": "0Pt6tOWSL-5Q",
    "colab_type": "code",
    "colab": {}
   },
   "source": [
    "def n_caracteres(caracter,numero):\n",
    "\n",
    "  return numero *caracter"
   ],
   "execution_count": 0,
   "outputs": []
  },
  {
   "cell_type": "code",
   "metadata": {
    "id": "aCHQp0SIMWJs",
    "colab_type": "code",
    "colab": {
     "base_uri": "https://localhost:8080/",
     "height": 36
    },
    "outputId": "53d795c3-b263-440d-cf18-cb6064186e63",
    "executionInfo": {
     "status": "ok",
     "timestamp": 1565535623692,
     "user_tz": -120,
     "elapsed": 840,
     "user": {
      "displayName": "Jeff Beat Eater",
      "photoUrl": "https://lh6.googleusercontent.com/-tGrCaQGEs3U/AAAAAAAAAAI/AAAAAAAAJvc/v29Xcq0c0jo/s64/photo.jpg",
      "userId": "03440760288740443961"
     }
    }
   },
   "source": [
    "#testing n_caracteres\n",
    "\n",
    "print(n_caracteres('*',5))"
   ],
   "execution_count": 64,
   "outputs": [
    {
     "output_type": "stream",
     "text": [
      "*****\n"
     ],
     "name": "stdout"
    }
   ]
  },
  {
   "cell_type": "markdown",
   "metadata": {
    "id": "saOuBlU5NJd2",
    "colab_type": "text"
   },
   "source": [
    "#Enunciado: Función histograma\n",
    "Definir un histograma mediante una lista"
   ]
  },
  {
   "cell_type": "code",
   "metadata": {
    "id": "MTVLaaIsNC-s",
    "colab_type": "code",
    "colab": {}
   },
   "source": [
    "def histograma(lista):\n",
    "  for elemento in lista:\n",
    "    print(elemento*'*')"
   ],
   "execution_count": 0,
   "outputs": []
  },
  {
   "cell_type": "code",
   "metadata": {
    "id": "MdSFICx4NfRO",
    "colab_type": "code",
    "colab": {
     "base_uri": "https://localhost:8080/",
     "height": 128
    },
    "outputId": "5063c021-eb60-4841-b111-09f3663b4b7e",
    "executionInfo": {
     "status": "ok",
     "timestamp": 1565535929049,
     "user_tz": -120,
     "elapsed": 820,
     "user": {
      "displayName": "Jeff Beat Eater",
      "photoUrl": "https://lh6.googleusercontent.com/-tGrCaQGEs3U/AAAAAAAAAAI/AAAAAAAAJvc/v29Xcq0c0jo/s64/photo.jpg",
      "userId": "03440760288740443961"
     }
    }
   },
   "source": [
    "lista = [5,6,1,3,4,6]\n",
    "\n",
    "histograma(lista)"
   ],
   "execution_count": 66,
   "outputs": [
    {
     "output_type": "stream",
     "text": [
      "*****\n",
      "******\n",
      "*\n",
      "***\n",
      "****\n",
      "******\n"
     ],
     "name": "stdout"
    }
   ]
  }
 ]
}